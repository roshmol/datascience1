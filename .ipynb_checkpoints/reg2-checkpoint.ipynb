{
 "cells": [
  {
   "cell_type": "code",
   "execution_count": 25,
   "id": "cc14bda6-93d9-4c1d-883d-6dc6554d9470",
   "metadata": {},
   "outputs": [],
   "source": [
    "import tensorflow as tf"
   ]
  },
  {
   "cell_type": "code",
   "execution_count": 26,
   "id": "7ff42029-d1cb-4b12-bd98-40944d1ff49f",
   "metadata": {},
   "outputs": [],
   "source": [
    "import pandas as pd\n",
    "import numpy as np\n",
    "import matplotlib.pyplot as plt"
   ]
  },
  {
   "cell_type": "code",
   "execution_count": 27,
   "id": "7e8d5f22-202e-4836-9b63-a175fd0d8d9f",
   "metadata": {},
   "outputs": [],
   "source": [
    "data=pd.read_csv(\"concrete_data.csv\")"
   ]
  },
  {
   "cell_type": "code",
   "execution_count": 28,
   "id": "1a0fdd77-400d-43c1-877d-10be71352dec",
   "metadata": {},
   "outputs": [
    {
     "data": {
      "text/html": [
       "<div>\n",
       "<style scoped>\n",
       "    .dataframe tbody tr th:only-of-type {\n",
       "        vertical-align: middle;\n",
       "    }\n",
       "\n",
       "    .dataframe tbody tr th {\n",
       "        vertical-align: top;\n",
       "    }\n",
       "\n",
       "    .dataframe thead th {\n",
       "        text-align: right;\n",
       "    }\n",
       "</style>\n",
       "<table border=\"1\" class=\"dataframe\">\n",
       "  <thead>\n",
       "    <tr style=\"text-align: right;\">\n",
       "      <th></th>\n",
       "      <th>Cement</th>\n",
       "      <th>Blast Furnace Slag</th>\n",
       "      <th>Fly Ash</th>\n",
       "      <th>Water</th>\n",
       "      <th>Superplasticizer</th>\n",
       "      <th>Coarse Aggregate</th>\n",
       "      <th>Fine Aggregate</th>\n",
       "      <th>Age</th>\n",
       "      <th>Strength</th>\n",
       "    </tr>\n",
       "  </thead>\n",
       "  <tbody>\n",
       "    <tr>\n",
       "      <th>0</th>\n",
       "      <td>540.0</td>\n",
       "      <td>0.0</td>\n",
       "      <td>0.0</td>\n",
       "      <td>162.0</td>\n",
       "      <td>2.5</td>\n",
       "      <td>1040.0</td>\n",
       "      <td>676.0</td>\n",
       "      <td>28</td>\n",
       "      <td>79.99</td>\n",
       "    </tr>\n",
       "    <tr>\n",
       "      <th>1</th>\n",
       "      <td>540.0</td>\n",
       "      <td>0.0</td>\n",
       "      <td>0.0</td>\n",
       "      <td>162.0</td>\n",
       "      <td>2.5</td>\n",
       "      <td>1055.0</td>\n",
       "      <td>676.0</td>\n",
       "      <td>28</td>\n",
       "      <td>61.89</td>\n",
       "    </tr>\n",
       "    <tr>\n",
       "      <th>2</th>\n",
       "      <td>332.5</td>\n",
       "      <td>142.5</td>\n",
       "      <td>0.0</td>\n",
       "      <td>228.0</td>\n",
       "      <td>0.0</td>\n",
       "      <td>932.0</td>\n",
       "      <td>594.0</td>\n",
       "      <td>270</td>\n",
       "      <td>40.27</td>\n",
       "    </tr>\n",
       "    <tr>\n",
       "      <th>3</th>\n",
       "      <td>332.5</td>\n",
       "      <td>142.5</td>\n",
       "      <td>0.0</td>\n",
       "      <td>228.0</td>\n",
       "      <td>0.0</td>\n",
       "      <td>932.0</td>\n",
       "      <td>594.0</td>\n",
       "      <td>365</td>\n",
       "      <td>41.05</td>\n",
       "    </tr>\n",
       "    <tr>\n",
       "      <th>4</th>\n",
       "      <td>198.6</td>\n",
       "      <td>132.4</td>\n",
       "      <td>0.0</td>\n",
       "      <td>192.0</td>\n",
       "      <td>0.0</td>\n",
       "      <td>978.4</td>\n",
       "      <td>825.5</td>\n",
       "      <td>360</td>\n",
       "      <td>44.30</td>\n",
       "    </tr>\n",
       "    <tr>\n",
       "      <th>...</th>\n",
       "      <td>...</td>\n",
       "      <td>...</td>\n",
       "      <td>...</td>\n",
       "      <td>...</td>\n",
       "      <td>...</td>\n",
       "      <td>...</td>\n",
       "      <td>...</td>\n",
       "      <td>...</td>\n",
       "      <td>...</td>\n",
       "    </tr>\n",
       "    <tr>\n",
       "      <th>1025</th>\n",
       "      <td>276.4</td>\n",
       "      <td>116.0</td>\n",
       "      <td>90.3</td>\n",
       "      <td>179.6</td>\n",
       "      <td>8.9</td>\n",
       "      <td>870.1</td>\n",
       "      <td>768.3</td>\n",
       "      <td>28</td>\n",
       "      <td>44.28</td>\n",
       "    </tr>\n",
       "    <tr>\n",
       "      <th>1026</th>\n",
       "      <td>322.2</td>\n",
       "      <td>0.0</td>\n",
       "      <td>115.6</td>\n",
       "      <td>196.0</td>\n",
       "      <td>10.4</td>\n",
       "      <td>817.9</td>\n",
       "      <td>813.4</td>\n",
       "      <td>28</td>\n",
       "      <td>31.18</td>\n",
       "    </tr>\n",
       "    <tr>\n",
       "      <th>1027</th>\n",
       "      <td>148.5</td>\n",
       "      <td>139.4</td>\n",
       "      <td>108.6</td>\n",
       "      <td>192.7</td>\n",
       "      <td>6.1</td>\n",
       "      <td>892.4</td>\n",
       "      <td>780.0</td>\n",
       "      <td>28</td>\n",
       "      <td>23.70</td>\n",
       "    </tr>\n",
       "    <tr>\n",
       "      <th>1028</th>\n",
       "      <td>159.1</td>\n",
       "      <td>186.7</td>\n",
       "      <td>0.0</td>\n",
       "      <td>175.6</td>\n",
       "      <td>11.3</td>\n",
       "      <td>989.6</td>\n",
       "      <td>788.9</td>\n",
       "      <td>28</td>\n",
       "      <td>32.77</td>\n",
       "    </tr>\n",
       "    <tr>\n",
       "      <th>1029</th>\n",
       "      <td>260.9</td>\n",
       "      <td>100.5</td>\n",
       "      <td>78.3</td>\n",
       "      <td>200.6</td>\n",
       "      <td>8.6</td>\n",
       "      <td>864.5</td>\n",
       "      <td>761.5</td>\n",
       "      <td>28</td>\n",
       "      <td>32.40</td>\n",
       "    </tr>\n",
       "  </tbody>\n",
       "</table>\n",
       "<p>1030 rows × 9 columns</p>\n",
       "</div>"
      ],
      "text/plain": [
       "      Cement  Blast Furnace Slag  Fly Ash  Water  Superplasticizer  \\\n",
       "0      540.0                 0.0      0.0  162.0               2.5   \n",
       "1      540.0                 0.0      0.0  162.0               2.5   \n",
       "2      332.5               142.5      0.0  228.0               0.0   \n",
       "3      332.5               142.5      0.0  228.0               0.0   \n",
       "4      198.6               132.4      0.0  192.0               0.0   \n",
       "...      ...                 ...      ...    ...               ...   \n",
       "1025   276.4               116.0     90.3  179.6               8.9   \n",
       "1026   322.2                 0.0    115.6  196.0              10.4   \n",
       "1027   148.5               139.4    108.6  192.7               6.1   \n",
       "1028   159.1               186.7      0.0  175.6              11.3   \n",
       "1029   260.9               100.5     78.3  200.6               8.6   \n",
       "\n",
       "      Coarse Aggregate  Fine Aggregate  Age  Strength  \n",
       "0               1040.0           676.0   28     79.99  \n",
       "1               1055.0           676.0   28     61.89  \n",
       "2                932.0           594.0  270     40.27  \n",
       "3                932.0           594.0  365     41.05  \n",
       "4                978.4           825.5  360     44.30  \n",
       "...                ...             ...  ...       ...  \n",
       "1025             870.1           768.3   28     44.28  \n",
       "1026             817.9           813.4   28     31.18  \n",
       "1027             892.4           780.0   28     23.70  \n",
       "1028             989.6           788.9   28     32.77  \n",
       "1029             864.5           761.5   28     32.40  \n",
       "\n",
       "[1030 rows x 9 columns]"
      ]
     },
     "execution_count": 28,
     "metadata": {},
     "output_type": "execute_result"
    }
   ],
   "source": [
    "data"
   ]
  },
  {
   "cell_type": "code",
   "execution_count": 29,
   "id": "a4725df5-e7cd-4b33-99c5-33fe5b2ccecb",
   "metadata": {},
   "outputs": [
    {
     "data": {
      "text/plain": [
       "array([[540.  ,   0.  ,   0.  , ..., 676.  ,  28.  ,  79.99],\n",
       "       [540.  ,   0.  ,   0.  , ..., 676.  ,  28.  ,  61.89],\n",
       "       [332.5 , 142.5 ,   0.  , ..., 594.  , 270.  ,  40.27],\n",
       "       ...,\n",
       "       [148.5 , 139.4 , 108.6 , ..., 780.  ,  28.  ,  23.7 ],\n",
       "       [159.1 , 186.7 ,   0.  , ..., 788.9 ,  28.  ,  32.77],\n",
       "       [260.9 , 100.5 ,  78.3 , ..., 761.5 ,  28.  ,  32.4 ]])"
      ]
     },
     "execution_count": 29,
     "metadata": {},
     "output_type": "execute_result"
    }
   ],
   "source": [
    "np_df=data.to_numpy()\n",
    "np_df"
   ]
  },
  {
   "cell_type": "code",
   "execution_count": 30,
   "id": "85cd28dd-9e4a-40fe-951b-38b4d738ca0d",
   "metadata": {},
   "outputs": [],
   "source": [
    "x_data=np_df[:,0:8]"
   ]
  },
  {
   "cell_type": "code",
   "execution_count": 31,
   "id": "1500ca7d-2ace-4b65-ac41-ff5f08899c4a",
   "metadata": {},
   "outputs": [
    {
     "data": {
      "text/plain": [
       "array([[ 540. ,    0. ,    0. , ..., 1040. ,  676. ,   28. ],\n",
       "       [ 540. ,    0. ,    0. , ..., 1055. ,  676. ,   28. ],\n",
       "       [ 332.5,  142.5,    0. , ...,  932. ,  594. ,  270. ],\n",
       "       ...,\n",
       "       [ 148.5,  139.4,  108.6, ...,  892.4,  780. ,   28. ],\n",
       "       [ 159.1,  186.7,    0. , ...,  989.6,  788.9,   28. ],\n",
       "       [ 260.9,  100.5,   78.3, ...,  864.5,  761.5,   28. ]])"
      ]
     },
     "execution_count": 31,
     "metadata": {},
     "output_type": "execute_result"
    }
   ],
   "source": [
    "x_data"
   ]
  },
  {
   "cell_type": "code",
   "execution_count": 32,
   "id": "b8b12310-4ab2-4430-9fd4-ce010923766f",
   "metadata": {},
   "outputs": [],
   "source": [
    "y_data=np_df[:,-1]"
   ]
  },
  {
   "cell_type": "code",
   "execution_count": 33,
   "id": "8b3dd1a2-35f9-464a-aeb8-a1308f37bb11",
   "metadata": {},
   "outputs": [
    {
     "data": {
      "text/plain": [
       "array([79.99, 61.89, 40.27, ..., 23.7 , 32.77, 32.4 ])"
      ]
     },
     "execution_count": 33,
     "metadata": {},
     "output_type": "execute_result"
    }
   ],
   "source": [
    "y_data"
   ]
  },
  {
   "cell_type": "code",
   "execution_count": 34,
   "id": "c82b9fca-4995-4727-b2cd-386d82c9632c",
   "metadata": {},
   "outputs": [],
   "source": [
    "from sklearn.preprocessing import StandardScaler\n",
    "sc=StandardScaler()"
   ]
  },
  {
   "cell_type": "code",
   "execution_count": 35,
   "id": "6040eea5-014c-423e-afff-fdb68f98e034",
   "metadata": {},
   "outputs": [],
   "source": [
    "x_data=sc.fit_transform(x_data)"
   ]
  },
  {
   "cell_type": "code",
   "execution_count": 36,
   "id": "9975b732-bfe3-4e76-8098-654831e1b9da",
   "metadata": {},
   "outputs": [
    {
     "data": {
      "text/plain": [
       "array([[ 2.47791487, -0.85688789, -0.84714393, ...,  0.86315424,\n",
       "        -1.21767004, -0.27973311],\n",
       "       [ 2.47791487, -0.85688789, -0.84714393, ...,  1.05616419,\n",
       "        -1.21767004, -0.27973311],\n",
       "       [ 0.49142531,  0.79552649, -0.84714393, ..., -0.52651741,\n",
       "        -2.24091709,  3.55306569],\n",
       "       ...,\n",
       "       [-1.27008832,  0.75957923,  0.85063487, ..., -1.03606368,\n",
       "         0.0801067 , -0.27973311],\n",
       "       [-1.16860982,  1.30806485, -0.84714393, ...,  0.21464081,\n",
       "         0.19116644, -0.27973311],\n",
       "       [-0.19403325,  0.30849909,  0.3769452 , ..., -1.39506219,\n",
       "        -0.15074782, -0.27973311]])"
      ]
     },
     "execution_count": 36,
     "metadata": {},
     "output_type": "execute_result"
    }
   ],
   "source": [
    "x_data"
   ]
  },
  {
   "cell_type": "code",
   "execution_count": 37,
   "id": "7e964290-c99a-42de-9945-f9b5f85f7798",
   "metadata": {},
   "outputs": [],
   "source": [
    "from sklearn.model_selection import train_test_split"
   ]
  },
  {
   "cell_type": "code",
   "execution_count": 38,
   "id": "0af6395b-d896-4d00-abca-ad4ef57daaa0",
   "metadata": {},
   "outputs": [],
   "source": [
    "xtrain,xtest,ytrain,ytest=train_test_split(x_data,y_data,train_size=0.8,random_state=42)"
   ]
  },
  {
   "cell_type": "code",
   "execution_count": 39,
   "id": "b43c4e31-470a-4a78-9214-93fada43d9e4",
   "metadata": {},
   "outputs": [],
   "source": [
    "from tensorflow import keras"
   ]
  },
  {
   "cell_type": "code",
   "execution_count": 40,
   "id": "758c530e-b5e9-49c4-a3b8-f1f9f2583641",
   "metadata": {},
   "outputs": [],
   "source": [
    "model=tf.keras.models.Sequential()"
   ]
  },
  {
   "cell_type": "code",
   "execution_count": 42,
   "id": "ae4c0466-ef08-4085-9eae-87b87781cc1a",
   "metadata": {},
   "outputs": [],
   "source": [
    "#add first input layer\n",
    "model.add(keras.layers.Dense(128,input_shape=(8,),activation='relu'))\n",
    "#add hidden layers\n",
    "model.add(keras.layers.Dense(128,activation='relu'))\n",
    "#add out layer\n",
    "model.add(keras.layers.Dense(1,activation='relu'))\n",
    "#compile the model with loss and metrics\n",
    "opt=keras.optimizers.Adam(learning_rate=0.01,beta_1=0.9)\n",
    "model.compile(loss=\"mean_squared_error\",optimizer=opt,metrics=[\"mean_squared_error\"])"
   ]
  },
  {
   "cell_type": "code",
   "execution_count": 43,
   "id": "cf8a2603-90b7-4888-a2f7-19313ca3958c",
   "metadata": {},
   "outputs": [
    {
     "name": "stdout",
     "output_type": "stream",
     "text": [
      "Model: \"sequential\"\n",
      "_________________________________________________________________\n",
      " Layer (type)                Output Shape              Param #   \n",
      "=================================================================\n",
      " dense (Dense)               (None, 128)               1152      \n",
      "                                                                 \n",
      " dense_1 (Dense)             (None, 128)               16512     \n",
      "                                                                 \n",
      " dense_2 (Dense)             (None, 1)                 129       \n",
      "                                                                 \n",
      "=================================================================\n",
      "Total params: 17,793\n",
      "Trainable params: 17,793\n",
      "Non-trainable params: 0\n",
      "_________________________________________________________________\n"
     ]
    }
   ],
   "source": [
    "model.summary()"
   ]
  },
  {
   "cell_type": "code",
   "execution_count": 46,
   "id": "d9de035a-4c66-4053-8a76-c1af2b0928a1",
   "metadata": {},
   "outputs": [
    {
     "name": "stdout",
     "output_type": "stream",
     "text": [
      "Epoch 1/18\n",
      "33/33 [==============================] - 0s 11ms/step - loss: 34.6596 - mean_squared_error: 34.6596 - val_loss: 35.3496 - val_mean_squared_error: 35.3496\n",
      "Epoch 2/18\n",
      "33/33 [==============================] - 0s 7ms/step - loss: 33.0708 - mean_squared_error: 33.0708 - val_loss: 31.8615 - val_mean_squared_error: 31.8615\n",
      "Epoch 3/18\n",
      "33/33 [==============================] - 0s 7ms/step - loss: 30.4503 - mean_squared_error: 30.4503 - val_loss: 35.6179 - val_mean_squared_error: 35.6179\n",
      "Epoch 4/18\n",
      "33/33 [==============================] - 0s 7ms/step - loss: 34.4429 - mean_squared_error: 34.4429 - val_loss: 63.6092 - val_mean_squared_error: 63.6092\n",
      "Epoch 5/18\n",
      "33/33 [==============================] - 0s 7ms/step - loss: 39.8577 - mean_squared_error: 39.8577 - val_loss: 38.0696 - val_mean_squared_error: 38.0696\n",
      "Epoch 6/18\n",
      "33/33 [==============================] - 0s 7ms/step - loss: 30.2660 - mean_squared_error: 30.2660 - val_loss: 40.0535 - val_mean_squared_error: 40.0535\n",
      "Epoch 7/18\n",
      "33/33 [==============================] - 0s 7ms/step - loss: 29.7724 - mean_squared_error: 29.7724 - val_loss: 35.8809 - val_mean_squared_error: 35.8809\n",
      "Epoch 8/18\n",
      "33/33 [==============================] - 0s 7ms/step - loss: 26.2361 - mean_squared_error: 26.2361 - val_loss: 32.5604 - val_mean_squared_error: 32.5604\n",
      "Epoch 9/18\n",
      "33/33 [==============================] - 0s 7ms/step - loss: 30.2901 - mean_squared_error: 30.2901 - val_loss: 41.2034 - val_mean_squared_error: 41.2034\n",
      "Epoch 10/18\n",
      "33/33 [==============================] - 0s 7ms/step - loss: 30.8865 - mean_squared_error: 30.8865 - val_loss: 35.5035 - val_mean_squared_error: 35.5035\n",
      "Epoch 11/18\n",
      "33/33 [==============================] - 0s 6ms/step - loss: 29.3513 - mean_squared_error: 29.3513 - val_loss: 33.1092 - val_mean_squared_error: 33.1092\n",
      "Epoch 12/18\n",
      "33/33 [==============================] - 0s 7ms/step - loss: 33.3770 - mean_squared_error: 33.3770 - val_loss: 54.8384 - val_mean_squared_error: 54.8384\n",
      "Epoch 13/18\n",
      "33/33 [==============================] - 0s 7ms/step - loss: 34.1834 - mean_squared_error: 34.1834 - val_loss: 29.0072 - val_mean_squared_error: 29.0072\n",
      "Epoch 14/18\n",
      "33/33 [==============================] - 0s 7ms/step - loss: 26.7058 - mean_squared_error: 26.7058 - val_loss: 29.4049 - val_mean_squared_error: 29.4049\n",
      "Epoch 15/18\n",
      "33/33 [==============================] - 0s 6ms/step - loss: 26.1235 - mean_squared_error: 26.1235 - val_loss: 32.4704 - val_mean_squared_error: 32.4704\n",
      "Epoch 16/18\n",
      "33/33 [==============================] - 0s 7ms/step - loss: 28.0837 - mean_squared_error: 28.0837 - val_loss: 35.0327 - val_mean_squared_error: 35.0327\n",
      "Epoch 17/18\n",
      "33/33 [==============================] - 0s 7ms/step - loss: 27.4774 - mean_squared_error: 27.4774 - val_loss: 35.7666 - val_mean_squared_error: 35.7666\n",
      "Epoch 18/18\n",
      "33/33 [==============================] - 0s 7ms/step - loss: 25.3382 - mean_squared_error: 25.3382 - val_loss: 41.8565 - val_mean_squared_error: 41.8565\n"
     ]
    },
    {
     "data": {
      "image/png": "[encoded data removed]",
      "text/plain": [
       "<Figure size 800x500 with 1 Axes>"
      ]
     },
     "metadata": {},
     "output_type": "display_data"
    },
    {
     "name": "stdout",
     "output_type": "stream",
     "text": [
      "7/7 [==============================] - 0s 5ms/step - loss: 43.2560 - mean_squared_error: 43.2560\n"
     ]
    },
    {
     "data": {
      "text/plain": [
       "[43.25602340698242, 43.25602340698242]"
      ]
     },
     "execution_count": 46,
     "metadata": {},
     "output_type": "execute_result"
    }
   ],
   "source": [
    "history=model.fit(xtrain,ytrain,batch_size=20,epochs=18,verbose=1,validation_split=0.2)\n",
    "pd.DataFrame(history.history)[\"mean_squared_error\"].plot(figsize=(8,5))\n",
    "plt.title('Accuaracy improve with epoch')\n",
    "plt.show()\n",
    "model.evaluate(xtest,ytest)                              \n"
   ]
  },
  {
   "cell_type": "code",
   "execution_count": 47,
   "id": "53ed3e95-2807-4ee1-874d-4e785e8094c0",
   "metadata": {},
   "outputs": [
    {
     "name": "stdout",
     "output_type": "stream",
     "text": [
      "1/1 [==============================] - 0s 40ms/step\n",
      "Raw Predict output(probablities): [[51.403873]]\n"
     ]
    }
   ],
   "source": [
    "#predictions\n",
    "prediction_input=[[540.0,0.0,0.0,162.0,2.5,1040.0,676.0,28]]\n",
    "\n",
    "#scale the prediction_input\n",
    "scale_input=sc.fit_transform(prediction_input)\n",
    "\n",
    "#prediction the output\n",
    "raw_predictions=model.predict(scale_input)\n",
    "\n",
    "print(\"Raw Predict output(probablities):\",raw_predictions)\n"
   ]
  },
  {
   "cell_type": "code",
   "execution_count": null,
   "id": "50d25645-e962-4ccd-a3a7-b73a1b28c6c6",
   "metadata": {},
   "outputs": [],
   "source": []
  }
 ],
 "metadata": {
  "kernelspec": {
   "display_name": "Python 3 (ipykernel)",
   "language": "python",
   "name": "python3"
  },
  "language_info": {
   "codemirror_mode": {
    "name": "ipython",
    "version": 3
   },
   "file_extension": ".py",
   "mimetype": "text/x-python",
   "name": "python",
   "nbconvert_exporter": "python",
   "pygments_lexer": "ipython3",
   "version": "3.9.13"
  }
 },
 "nbformat": 4,
 "nbformat_minor": 5
}
