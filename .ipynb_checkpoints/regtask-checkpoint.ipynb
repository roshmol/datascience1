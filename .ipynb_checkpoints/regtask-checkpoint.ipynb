{
 "cells": [
  {
   "cell_type": "code",
   "execution_count": 40,
   "id": "4e204a95-762d-451e-84ba-fe370e84b208",
   "metadata": {},
   "outputs": [],
   "source": [
    "import tensorflow as tf"
   ]
  },
  {
   "cell_type": "code",
   "execution_count": 41,
   "id": "3c3dba2b-568d-4792-b98e-047b36f81572",
   "metadata": {},
   "outputs": [],
   "source": [
    "import pandas as pd\n",
    "import numpy as np\n",
    "import matplotlib.pyplot as plt"
   ]
  },
  {
   "cell_type": "code",
   "execution_count": 42,
   "id": "310988f6-a81c-44bf-bec0-9734b82c823d",
   "metadata": {},
   "outputs": [],
   "source": [
    "data=pd.read_csv(\"Housing_Data.csv\")"
   ]
  },
  {
   "cell_type": "code",
   "execution_count": 43,
   "id": "0c5b6730-ac06-4661-a8d5-7349fc6bd507",
   "metadata": {},
   "outputs": [
    {
     "data": {
      "text/html": [
       "<div>\n",
       "<style scoped>\n",
       "    .dataframe tbody tr th:only-of-type {\n",
       "        vertical-align: middle;\n",
       "    }\n",
       "\n",
       "    .dataframe tbody tr th {\n",
       "        vertical-align: top;\n",
       "    }\n",
       "\n",
       "    .dataframe thead th {\n",
       "        text-align: right;\n",
       "    }\n",
       "</style>\n",
       "<table border=\"1\" class=\"dataframe\">\n",
       "  <thead>\n",
       "    <tr style=\"text-align: right;\">\n",
       "      <th></th>\n",
       "      <th>Unnamed: 0</th>\n",
       "      <th>price</th>\n",
       "      <th>lotsize</th>\n",
       "      <th>bedrooms</th>\n",
       "      <th>bathrms</th>\n",
       "      <th>stories</th>\n",
       "      <th>driveway</th>\n",
       "      <th>recroom</th>\n",
       "      <th>fullbase</th>\n",
       "      <th>gashw</th>\n",
       "      <th>airco</th>\n",
       "      <th>garagepl</th>\n",
       "      <th>prefarea</th>\n",
       "    </tr>\n",
       "  </thead>\n",
       "  <tbody>\n",
       "    <tr>\n",
       "      <th>0</th>\n",
       "      <td>1</td>\n",
       "      <td>42000.0</td>\n",
       "      <td>5850</td>\n",
       "      <td>3</td>\n",
       "      <td>1</td>\n",
       "      <td>2</td>\n",
       "      <td>yes</td>\n",
       "      <td>no</td>\n",
       "      <td>yes</td>\n",
       "      <td>no</td>\n",
       "      <td>no</td>\n",
       "      <td>1</td>\n",
       "      <td>no</td>\n",
       "    </tr>\n",
       "    <tr>\n",
       "      <th>1</th>\n",
       "      <td>2</td>\n",
       "      <td>38500.0</td>\n",
       "      <td>4000</td>\n",
       "      <td>2</td>\n",
       "      <td>1</td>\n",
       "      <td>1</td>\n",
       "      <td>yes</td>\n",
       "      <td>no</td>\n",
       "      <td>no</td>\n",
       "      <td>no</td>\n",
       "      <td>no</td>\n",
       "      <td>0</td>\n",
       "      <td>no</td>\n",
       "    </tr>\n",
       "    <tr>\n",
       "      <th>2</th>\n",
       "      <td>3</td>\n",
       "      <td>49500.0</td>\n",
       "      <td>3060</td>\n",
       "      <td>3</td>\n",
       "      <td>1</td>\n",
       "      <td>1</td>\n",
       "      <td>yes</td>\n",
       "      <td>no</td>\n",
       "      <td>no</td>\n",
       "      <td>no</td>\n",
       "      <td>no</td>\n",
       "      <td>0</td>\n",
       "      <td>no</td>\n",
       "    </tr>\n",
       "    <tr>\n",
       "      <th>3</th>\n",
       "      <td>4</td>\n",
       "      <td>60500.0</td>\n",
       "      <td>6650</td>\n",
       "      <td>3</td>\n",
       "      <td>1</td>\n",
       "      <td>2</td>\n",
       "      <td>yes</td>\n",
       "      <td>yes</td>\n",
       "      <td>no</td>\n",
       "      <td>no</td>\n",
       "      <td>no</td>\n",
       "      <td>0</td>\n",
       "      <td>no</td>\n",
       "    </tr>\n",
       "    <tr>\n",
       "      <th>4</th>\n",
       "      <td>5</td>\n",
       "      <td>61000.0</td>\n",
       "      <td>6360</td>\n",
       "      <td>2</td>\n",
       "      <td>1</td>\n",
       "      <td>1</td>\n",
       "      <td>yes</td>\n",
       "      <td>no</td>\n",
       "      <td>no</td>\n",
       "      <td>no</td>\n",
       "      <td>no</td>\n",
       "      <td>0</td>\n",
       "      <td>no</td>\n",
       "    </tr>\n",
       "    <tr>\n",
       "      <th>...</th>\n",
       "      <td>...</td>\n",
       "      <td>...</td>\n",
       "      <td>...</td>\n",
       "      <td>...</td>\n",
       "      <td>...</td>\n",
       "      <td>...</td>\n",
       "      <td>...</td>\n",
       "      <td>...</td>\n",
       "      <td>...</td>\n",
       "      <td>...</td>\n",
       "      <td>...</td>\n",
       "      <td>...</td>\n",
       "      <td>...</td>\n",
       "    </tr>\n",
       "    <tr>\n",
       "      <th>541</th>\n",
       "      <td>542</td>\n",
       "      <td>91500.0</td>\n",
       "      <td>4800</td>\n",
       "      <td>3</td>\n",
       "      <td>2</td>\n",
       "      <td>4</td>\n",
       "      <td>yes</td>\n",
       "      <td>yes</td>\n",
       "      <td>no</td>\n",
       "      <td>no</td>\n",
       "      <td>yes</td>\n",
       "      <td>0</td>\n",
       "      <td>no</td>\n",
       "    </tr>\n",
       "    <tr>\n",
       "      <th>542</th>\n",
       "      <td>543</td>\n",
       "      <td>94000.0</td>\n",
       "      <td>6000</td>\n",
       "      <td>3</td>\n",
       "      <td>2</td>\n",
       "      <td>4</td>\n",
       "      <td>yes</td>\n",
       "      <td>no</td>\n",
       "      <td>no</td>\n",
       "      <td>no</td>\n",
       "      <td>yes</td>\n",
       "      <td>0</td>\n",
       "      <td>no</td>\n",
       "    </tr>\n",
       "    <tr>\n",
       "      <th>543</th>\n",
       "      <td>544</td>\n",
       "      <td>103000.0</td>\n",
       "      <td>6000</td>\n",
       "      <td>3</td>\n",
       "      <td>2</td>\n",
       "      <td>4</td>\n",
       "      <td>yes</td>\n",
       "      <td>yes</td>\n",
       "      <td>no</td>\n",
       "      <td>no</td>\n",
       "      <td>yes</td>\n",
       "      <td>1</td>\n",
       "      <td>no</td>\n",
       "    </tr>\n",
       "    <tr>\n",
       "      <th>544</th>\n",
       "      <td>545</td>\n",
       "      <td>105000.0</td>\n",
       "      <td>6000</td>\n",
       "      <td>3</td>\n",
       "      <td>2</td>\n",
       "      <td>2</td>\n",
       "      <td>yes</td>\n",
       "      <td>yes</td>\n",
       "      <td>no</td>\n",
       "      <td>no</td>\n",
       "      <td>yes</td>\n",
       "      <td>1</td>\n",
       "      <td>no</td>\n",
       "    </tr>\n",
       "    <tr>\n",
       "      <th>545</th>\n",
       "      <td>546</td>\n",
       "      <td>105000.0</td>\n",
       "      <td>6000</td>\n",
       "      <td>3</td>\n",
       "      <td>1</td>\n",
       "      <td>2</td>\n",
       "      <td>yes</td>\n",
       "      <td>no</td>\n",
       "      <td>no</td>\n",
       "      <td>no</td>\n",
       "      <td>yes</td>\n",
       "      <td>1</td>\n",
       "      <td>no</td>\n",
       "    </tr>\n",
       "  </tbody>\n",
       "</table>\n",
       "<p>546 rows × 13 columns</p>\n",
       "</div>"
      ],
      "text/plain": [
       "     Unnamed: 0     price  lotsize  bedrooms  bathrms  stories driveway  \\\n",
       "0             1   42000.0     5850         3        1        2      yes   \n",
       "1             2   38500.0     4000         2        1        1      yes   \n",
       "2             3   49500.0     3060         3        1        1      yes   \n",
       "3             4   60500.0     6650         3        1        2      yes   \n",
       "4             5   61000.0     6360         2        1        1      yes   \n",
       "..          ...       ...      ...       ...      ...      ...      ...   \n",
       "541         542   91500.0     4800         3        2        4      yes   \n",
       "542         543   94000.0     6000         3        2        4      yes   \n",
       "543         544  103000.0     6000         3        2        4      yes   \n",
       "544         545  105000.0     6000         3        2        2      yes   \n",
       "545         546  105000.0     6000         3        1        2      yes   \n",
       "\n",
       "    recroom fullbase gashw airco  garagepl prefarea  \n",
       "0        no      yes    no    no         1       no  \n",
       "1        no       no    no    no         0       no  \n",
       "2        no       no    no    no         0       no  \n",
       "3       yes       no    no    no         0       no  \n",
       "4        no       no    no    no         0       no  \n",
       "..      ...      ...   ...   ...       ...      ...  \n",
       "541     yes       no    no   yes         0       no  \n",
       "542      no       no    no   yes         0       no  \n",
       "543     yes       no    no   yes         1       no  \n",
       "544     yes       no    no   yes         1       no  \n",
       "545      no       no    no   yes         1       no  \n",
       "\n",
       "[546 rows x 13 columns]"
      ]
     },
     "execution_count": 43,
     "metadata": {},
     "output_type": "execute_result"
    }
   ],
   "source": [
    "data"
   ]
  },
  {
   "cell_type": "code",
   "execution_count": 44,
   "id": "def84f2e-d423-4935-a996-4df2080e9415",
   "metadata": {},
   "outputs": [],
   "source": [
    "data.drop(['driveway','recroom','fullbase','gashw','airco','garagepl','prefarea'],axis=1,inplace=True)"
   ]
  },
  {
   "cell_type": "code",
   "execution_count": 45,
   "id": "dd1bb400-ce09-42b4-81da-4dfbd2651379",
   "metadata": {},
   "outputs": [
    {
     "data": {
      "text/html": [
       "<div>\n",
       "<style scoped>\n",
       "    .dataframe tbody tr th:only-of-type {\n",
       "        vertical-align: middle;\n",
       "    }\n",
       "\n",
       "    .dataframe tbody tr th {\n",
       "        vertical-align: top;\n",
       "    }\n",
       "\n",
       "    .dataframe thead th {\n",
       "        text-align: right;\n",
       "    }\n",
       "</style>\n",
       "<table border=\"1\" class=\"dataframe\">\n",
       "  <thead>\n",
       "    <tr style=\"text-align: right;\">\n",
       "      <th></th>\n",
       "      <th>Unnamed: 0</th>\n",
       "      <th>price</th>\n",
       "      <th>lotsize</th>\n",
       "      <th>bedrooms</th>\n",
       "      <th>bathrms</th>\n",
       "      <th>stories</th>\n",
       "    </tr>\n",
       "  </thead>\n",
       "  <tbody>\n",
       "    <tr>\n",
       "      <th>0</th>\n",
       "      <td>1</td>\n",
       "      <td>42000.0</td>\n",
       "      <td>5850</td>\n",
       "      <td>3</td>\n",
       "      <td>1</td>\n",
       "      <td>2</td>\n",
       "    </tr>\n",
       "    <tr>\n",
       "      <th>1</th>\n",
       "      <td>2</td>\n",
       "      <td>38500.0</td>\n",
       "      <td>4000</td>\n",
       "      <td>2</td>\n",
       "      <td>1</td>\n",
       "      <td>1</td>\n",
       "    </tr>\n",
       "    <tr>\n",
       "      <th>2</th>\n",
       "      <td>3</td>\n",
       "      <td>49500.0</td>\n",
       "      <td>3060</td>\n",
       "      <td>3</td>\n",
       "      <td>1</td>\n",
       "      <td>1</td>\n",
       "    </tr>\n",
       "    <tr>\n",
       "      <th>3</th>\n",
       "      <td>4</td>\n",
       "      <td>60500.0</td>\n",
       "      <td>6650</td>\n",
       "      <td>3</td>\n",
       "      <td>1</td>\n",
       "      <td>2</td>\n",
       "    </tr>\n",
       "    <tr>\n",
       "      <th>4</th>\n",
       "      <td>5</td>\n",
       "      <td>61000.0</td>\n",
       "      <td>6360</td>\n",
       "      <td>2</td>\n",
       "      <td>1</td>\n",
       "      <td>1</td>\n",
       "    </tr>\n",
       "    <tr>\n",
       "      <th>...</th>\n",
       "      <td>...</td>\n",
       "      <td>...</td>\n",
       "      <td>...</td>\n",
       "      <td>...</td>\n",
       "      <td>...</td>\n",
       "      <td>...</td>\n",
       "    </tr>\n",
       "    <tr>\n",
       "      <th>541</th>\n",
       "      <td>542</td>\n",
       "      <td>91500.0</td>\n",
       "      <td>4800</td>\n",
       "      <td>3</td>\n",
       "      <td>2</td>\n",
       "      <td>4</td>\n",
       "    </tr>\n",
       "    <tr>\n",
       "      <th>542</th>\n",
       "      <td>543</td>\n",
       "      <td>94000.0</td>\n",
       "      <td>6000</td>\n",
       "      <td>3</td>\n",
       "      <td>2</td>\n",
       "      <td>4</td>\n",
       "    </tr>\n",
       "    <tr>\n",
       "      <th>543</th>\n",
       "      <td>544</td>\n",
       "      <td>103000.0</td>\n",
       "      <td>6000</td>\n",
       "      <td>3</td>\n",
       "      <td>2</td>\n",
       "      <td>4</td>\n",
       "    </tr>\n",
       "    <tr>\n",
       "      <th>544</th>\n",
       "      <td>545</td>\n",
       "      <td>105000.0</td>\n",
       "      <td>6000</td>\n",
       "      <td>3</td>\n",
       "      <td>2</td>\n",
       "      <td>2</td>\n",
       "    </tr>\n",
       "    <tr>\n",
       "      <th>545</th>\n",
       "      <td>546</td>\n",
       "      <td>105000.0</td>\n",
       "      <td>6000</td>\n",
       "      <td>3</td>\n",
       "      <td>1</td>\n",
       "      <td>2</td>\n",
       "    </tr>\n",
       "  </tbody>\n",
       "</table>\n",
       "<p>546 rows × 6 columns</p>\n",
       "</div>"
      ],
      "text/plain": [
       "     Unnamed: 0     price  lotsize  bedrooms  bathrms  stories\n",
       "0             1   42000.0     5850         3        1        2\n",
       "1             2   38500.0     4000         2        1        1\n",
       "2             3   49500.0     3060         3        1        1\n",
       "3             4   60500.0     6650         3        1        2\n",
       "4             5   61000.0     6360         2        1        1\n",
       "..          ...       ...      ...       ...      ...      ...\n",
       "541         542   91500.0     4800         3        2        4\n",
       "542         543   94000.0     6000         3        2        4\n",
       "543         544  103000.0     6000         3        2        4\n",
       "544         545  105000.0     6000         3        2        2\n",
       "545         546  105000.0     6000         3        1        2\n",
       "\n",
       "[546 rows x 6 columns]"
      ]
     },
     "execution_count": 45,
     "metadata": {},
     "output_type": "execute_result"
    }
   ],
   "source": [
    "data"
   ]
  },
  {
   "cell_type": "code",
   "execution_count": 46,
   "id": "c7709aa9-8c93-42d6-b16f-00a6dd54d332",
   "metadata": {},
   "outputs": [],
   "source": [
    "np_df=data.to_numpy()"
   ]
  },
  {
   "cell_type": "code",
   "execution_count": 47,
   "id": "a3a07bfc-413e-4553-92c5-e11f51bd6864",
   "metadata": {},
   "outputs": [
    {
     "data": {
      "text/plain": [
       "array([[1.00e+00, 4.20e+04, 5.85e+03, 3.00e+00, 1.00e+00, 2.00e+00],\n",
       "       [2.00e+00, 3.85e+04, 4.00e+03, 2.00e+00, 1.00e+00, 1.00e+00],\n",
       "       [3.00e+00, 4.95e+04, 3.06e+03, 3.00e+00, 1.00e+00, 1.00e+00],\n",
       "       ...,\n",
       "       [5.44e+02, 1.03e+05, 6.00e+03, 3.00e+00, 2.00e+00, 4.00e+00],\n",
       "       [5.45e+02, 1.05e+05, 6.00e+03, 3.00e+00, 2.00e+00, 2.00e+00],\n",
       "       [5.46e+02, 1.05e+05, 6.00e+03, 3.00e+00, 1.00e+00, 2.00e+00]])"
      ]
     },
     "execution_count": 47,
     "metadata": {},
     "output_type": "execute_result"
    }
   ],
   "source": [
    "np_df"
   ]
  },
  {
   "cell_type": "code",
   "execution_count": 48,
   "id": "d87d18c0-aa9e-4f12-9bd9-187cc9fd8048",
   "metadata": {},
   "outputs": [
    {
     "data": {
      "text/plain": [
       "array([[5.85e+03, 3.00e+00, 1.00e+00, 2.00e+00],\n",
       "       [4.00e+03, 2.00e+00, 1.00e+00, 1.00e+00],\n",
       "       [3.06e+03, 3.00e+00, 1.00e+00, 1.00e+00],\n",
       "       ...,\n",
       "       [6.00e+03, 3.00e+00, 2.00e+00, 4.00e+00],\n",
       "       [6.00e+03, 3.00e+00, 2.00e+00, 2.00e+00],\n",
       "       [6.00e+03, 3.00e+00, 1.00e+00, 2.00e+00]])"
      ]
     },
     "execution_count": 48,
     "metadata": {},
     "output_type": "execute_result"
    }
   ],
   "source": [
    "x_data=np_df[:,2:6]\n",
    "x_data"
   ]
  },
  {
   "cell_type": "code",
   "execution_count": 49,
   "id": "66379675-d1dd-4716-8ccf-c2cf855b40ea",
   "metadata": {},
   "outputs": [
    {
     "data": {
      "text/plain": [
       "array([ 42000.,  38500.,  49500.,  60500.,  61000.,  66000.,  66000.,\n",
       "        69000.,  83800.,  88500.,  90000.,  30500.,  27000.,  36000.,\n",
       "        37000.,  37900.,  40500.,  40750.,  45000.,  45000.,  48500.,\n",
       "        65900.,  37900.,  38000.,  42000.,  42300.,  43500.,  44000.,\n",
       "        44500.,  44900.,  45000.,  48000.,  49000.,  51500.,  61000.,\n",
       "        61000.,  61700.,  67000.,  82000.,  54500.,  66500.,  70000.,\n",
       "        82000.,  92000.,  38000.,  44000.,  41000.,  43000.,  48000.,\n",
       "        54800.,  55000.,  57000.,  68000.,  95000.,  38000.,  25000.,\n",
       "        25245.,  56000.,  35500.,  30000.,  48000.,  48000.,  52000.,\n",
       "        54000.,  56000.,  60000.,  60000.,  67000.,  47000.,  70000.,\n",
       "        45000.,  51000.,  32500.,  34000.,  35000.,  36000.,  45000.,\n",
       "        47000.,  55000.,  63900.,  50000.,  35000.,  50000.,  43000.,\n",
       "        55500.,  57000.,  60000.,  78000.,  35000.,  44000.,  47000.,\n",
       "        58000., 163000., 128000., 123500.,  39000.,  53900.,  59900.,\n",
       "        35000.,  43000.,  57000.,  79000., 125000., 132000.,  58000.,\n",
       "        43000.,  48000.,  58500.,  73000.,  63500.,  43000.,  46500.,\n",
       "        92000.,  75000.,  75000.,  85000.,  93000.,  94500., 106500.,\n",
       "       116000.,  61500.,  80000.,  37000.,  59500.,  70000.,  95000.,\n",
       "       117000., 122500., 123500., 127000.,  35000.,  44500.,  49900.,\n",
       "        50500.,  65000.,  90000.,  46000.,  35000.,  26500.,  43000.,\n",
       "        56000.,  40000.,  51000.,  51000.,  57250.,  44000.,  61000.,\n",
       "        62000.,  80000.,  50000.,  59900.,  35500.,  37000.,  42000.,\n",
       "        48000.,  60000.,  60000.,  60000.,  62000.,  63000.,  63900.,\n",
       "       130000.,  25000.,  50000.,  52900.,  62000.,  73500.,  38000.,\n",
       "        46000.,  48000.,  52500.,  32000.,  38000.,  46000.,  50000.,\n",
       "        57500.,  70000.,  69900.,  74500.,  42000.,  60000.,  50000.,\n",
       "        58000.,  63900.,  28000.,  54000.,  44700.,  47000.,  50000.,\n",
       "        57250.,  67000.,  52500.,  42000.,  57500.,  33000.,  34400.,\n",
       "        40000.,  40500.,  46500.,  52000.,  53000.,  53900.,  50000.,\n",
       "        55500.,  56000.,  60000.,  60000.,  69500.,  72000.,  92500.,\n",
       "        40500.,  42000.,  47900.,  52000.,  62000.,  41000., 138300.,\n",
       "        42000.,  47000.,  64500.,  46000.,  58000.,  70100.,  78500.,\n",
       "        87250.,  70800.,  56000.,  48000.,  68000.,  79000.,  80000.,\n",
       "        87000.,  25000.,  32500.,  36000.,  42500.,  43000.,  50000.,\n",
       "        26000.,  30000.,  34000.,  52000.,  70000.,  27000.,  32500.,\n",
       "        37200.,  38000.,  42000.,  44500.,  45000.,  48500.,  52000.,\n",
       "        53900.,  60000.,  61000.,  64500.,  71000.,  75500.,  33500.,\n",
       "        41000.,  41000.,  46200.,  48500.,  48900.,  50000.,  51000.,\n",
       "        52500.,  52500.,  54000.,  59000.,  60000.,  63000.,  64000.,\n",
       "        64900.,  65000.,  66000.,  70000.,  65500.,  57000.,  52000.,\n",
       "        54000.,  74500.,  90000.,  45000.,  45000.,  65000.,  55000.,\n",
       "        62000.,  30000.,  34000.,  38000.,  39000.,  45000.,  47000.,\n",
       "        47500.,  49000.,  50000.,  50000.,  52900.,  53000.,  55000.,\n",
       "        56000.,  58500.,  59500.,  60000.,  64000.,  67000.,  68100.,\n",
       "        70000.,  72000.,  57500.,  69900.,  70000.,  75000.,  76900.,\n",
       "        78000.,  80000.,  82000.,  83000.,  83000.,  83900.,  88500.,\n",
       "        93000.,  98000.,  98500.,  99000., 101000., 110000., 115442.,\n",
       "       120000., 124000., 175000.,  50000.,  55000.,  60000.,  61000.,\n",
       "       106000., 155000., 141000.,  62500.,  70000.,  73000.,  80000.,\n",
       "        80000.,  88000.,  49000.,  52000.,  59500.,  60000.,  64000.,\n",
       "        64500.,  68500.,  78500.,  86000.,  86900.,  75000.,  78000.,\n",
       "        95000.,  97000., 107000., 130000., 145000., 175000.,  72000.,\n",
       "        84900.,  99000., 114000., 120000., 145000.,  79000.,  82000.,\n",
       "        85000., 100500., 122000., 126500., 133000., 140000., 190000.,\n",
       "        84000.,  97000., 103500., 112500., 140000.,  74700.,  78000.,\n",
       "        78900.,  83900.,  85000.,  85000.,  86000.,  86900.,  94500.,\n",
       "        96000., 106000.,  72000.,  74500.,  77000.,  80750.,  82900.,\n",
       "        85000.,  92500.,  76000.,  77500.,  80000.,  80000.,  86000.,\n",
       "        87000.,  87500.,  89000.,  89900.,  90000.,  95000., 112000.,\n",
       "        31900.,  52000.,  90000., 100000.,  91700., 174500.,  94700.,\n",
       "        68000.,  80000.,  61100.,  62900.,  65500.,  66000.,  49500.,\n",
       "        50000.,  53500.,  58550.,  64500.,  65000.,  69000.,  73000.,\n",
       "        75000.,  75000., 132000.,  60000.,  65000.,  69000.,  51900.,\n",
       "        57000.,  65000.,  79500.,  72500., 104900., 114900., 120000.,\n",
       "        58000.,  67000.,  67000.,  69000.,  73000.,  73500.,  74900.,\n",
       "        75000.,  79500., 120900.,  44555.,  47000.,  47600.,  49000.,\n",
       "        49000.,  49000.,  49500.,  52000.,  54000.,  55000.,  55000.,\n",
       "        56000.,  60000.,  60500.,  50000.,  64900.,  93000.,  85000.,\n",
       "        61500.,  88500.,  88000.,  89000.,  89500.,  95000.,  95500.,\n",
       "        51500.,  62900., 118500.,  42900.,  44100.,  47000.,  50000.,\n",
       "        50000.,  53000.,  53000.,  54000.,  58500.,  59000.,  60000.,\n",
       "        62900.,  64000.,  65000.,  67900.,  68500.,  70000.,  70500.,\n",
       "        71500.,  71900.,  75000.,  75000.,  87000.,  64000.,  70000.,\n",
       "        47500.,  62600.,  66000.,  58900.,  53000.,  95000.,  96500.,\n",
       "       101000., 102000., 103000., 105000., 108000., 110000., 113000.,\n",
       "       120000., 105000., 106000., 107500., 108000., 113750., 120000.,\n",
       "        70000.,  71000.,  82000.,  82000.,  82500.,  83000.,  84000.,\n",
       "        85000.,  85000.,  91500.,  94000., 103000., 105000., 105000.])"
      ]
     },
     "execution_count": 49,
     "metadata": {},
     "output_type": "execute_result"
    }
   ],
   "source": [
    "y_data=np_df[:,1]\n",
    "y_data"
   ]
  },
  {
   "cell_type": "code",
   "execution_count": null,
   "id": "28694bc4-3bf1-4fd4-a9a2-07aae952ed79",
   "metadata": {},
   "outputs": [],
   "source": []
  },
  {
   "cell_type": "code",
   "execution_count": 50,
   "id": "24cfc5a1-580b-48bf-b66d-11df04c1a131",
   "metadata": {},
   "outputs": [],
   "source": [
    "from sklearn.preprocessing import StandardScaler\n",
    "sc=StandardScaler()"
   ]
  },
  {
   "cell_type": "code",
   "execution_count": 51,
   "id": "3c870e7a-bbc9-4be7-9f58-9cdef1eb0030",
   "metadata": {},
   "outputs": [],
   "source": [
    "x_data=sc.fit_transform(x_data)\n",
    "y_data=tf.keras.utils.to_categorical(y_data)"
   ]
  },
  {
   "cell_type": "code",
   "execution_count": 52,
   "id": "7575b45f-0ff5-4950-b3d6-360d4315665a",
   "metadata": {},
   "outputs": [
    {
     "data": {
      "text/plain": [
       "array([[ 0.32302806,  0.0472349 , -0.5694948 ,  0.22170408],\n",
       "       [-0.53101296, -1.31014696, -0.5694948 , -0.93115715],\n",
       "       [-0.96495812,  0.0472349 , -0.5694948 , -0.93115715],\n",
       "       ...,\n",
       "       [ 0.39227462,  0.0472349 ,  1.42373699,  2.52742656],\n",
       "       [ 0.39227462,  0.0472349 ,  1.42373699,  0.22170408],\n",
       "       [ 0.39227462,  0.0472349 , -0.5694948 ,  0.22170408]])"
      ]
     },
     "execution_count": 52,
     "metadata": {},
     "output_type": "execute_result"
    }
   ],
   "source": [
    "x_data"
   ]
  },
  {
   "cell_type": "code",
   "execution_count": 53,
   "id": "b42a5aff-aae8-4ee9-ae0e-396a4a4d368c",
   "metadata": {},
   "outputs": [
    {
     "data": {
      "text/plain": [
       "array([[0., 0., 0., ..., 0., 0., 0.],\n",
       "       [0., 0., 0., ..., 0., 0., 0.],\n",
       "       [0., 0., 0., ..., 0., 0., 0.],\n",
       "       ...,\n",
       "       [0., 0., 0., ..., 0., 0., 0.],\n",
       "       [0., 0., 0., ..., 0., 0., 0.],\n",
       "       [0., 0., 0., ..., 0., 0., 0.]], dtype=float32)"
      ]
     },
     "execution_count": 53,
     "metadata": {},
     "output_type": "execute_result"
    }
   ],
   "source": [
    "y_data"
   ]
  },
  {
   "cell_type": "code",
   "execution_count": 54,
   "id": "4ca7a305-978b-4101-9fe1-30710d01c956",
   "metadata": {},
   "outputs": [],
   "source": [
    "from sklearn.model_selection import train_test_split"
   ]
  },
  {
   "cell_type": "code",
   "execution_count": 55,
   "id": "379fe5d1-66b7-4786-abf0-eaf67e80def6",
   "metadata": {},
   "outputs": [],
   "source": [
    "xtrain,xtest,ytrain,ytest=train_test_split(x_data,y_data,train_size=0.8,random_state=42)"
   ]
  },
  {
   "cell_type": "code",
   "execution_count": 56,
   "id": "ab20012f-dc30-4401-a72b-fe9a5e61a694",
   "metadata": {},
   "outputs": [
    {
     "data": {
      "text/plain": [
       "array([[ 1.5463841 ,  0.0472349 ,  1.42373699,  2.52742656],\n",
       "       [ 1.20938413, -1.31014696, -0.5694948 , -0.93115715],\n",
       "       [ 0.55846639,  0.0472349 ,  1.42373699,  2.52742656],\n",
       "       ...,\n",
       "       [-0.69720472,  0.0472349 ,  1.42373699,  0.22170408],\n",
       "       [ 0.06912397,  1.40461676,  1.42373699, -0.93115715],\n",
       "       [-0.38328694,  0.0472349 , -0.5694948 ,  0.22170408]])"
      ]
     },
     "execution_count": 56,
     "metadata": {},
     "output_type": "execute_result"
    }
   ],
   "source": [
    "xtrain"
   ]
  },
  {
   "cell_type": "code",
   "execution_count": 57,
   "id": "bf24f9c2-5bc7-4723-94cc-4ebce7ea6d61",
   "metadata": {},
   "outputs": [
    {
     "data": {
      "text/plain": [
       "array([[0., 0., 0., ..., 0., 0., 0.],\n",
       "       [0., 0., 0., ..., 0., 0., 0.],\n",
       "       [0., 0., 0., ..., 0., 0., 0.],\n",
       "       ...,\n",
       "       [0., 0., 0., ..., 0., 0., 0.],\n",
       "       [0., 0., 0., ..., 0., 0., 0.],\n",
       "       [0., 0., 0., ..., 0., 0., 0.]], dtype=float32)"
      ]
     },
     "execution_count": 57,
     "metadata": {},
     "output_type": "execute_result"
    }
   ],
   "source": [
    "ytrain"
   ]
  },
  {
   "cell_type": "code",
   "execution_count": 58,
   "id": "187ea4ab-4174-4b6a-9d16-16a34a771f9a",
   "metadata": {},
   "outputs": [],
   "source": [
    "from tensorflow import keras"
   ]
  },
  {
   "cell_type": "code",
   "execution_count": 59,
   "id": "6bd703c6-cef8-4ec3-a2a1-5a020175f850",
   "metadata": {},
   "outputs": [],
   "source": [
    "model=tf.keras.models.Sequential()"
   ]
  },
  {
   "cell_type": "code",
   "execution_count": 67,
   "id": "e5b8408e-e91c-4fea-8d91-2bd937033fdb",
   "metadata": {},
   "outputs": [],
   "source": [
    "#add first input layer\n",
    "model.add(keras.layers.Dense(128,input_shape=(4,),activation='relu'))\n",
    "#add hidden layers\n",
    "model.add(keras.layers.Dense(128,activation='relu'))\n",
    "#add out layer\n",
    "model.add(keras.layers.Dense(1,activation='relu'))\n",
    "#compile the model with loss and metrics\n",
    "model.compile(loss=\"mean_squared_error\",optimizer=\"adam\",metrics=[\"mean_squared_error\"])"
   ]
  },
  {
   "cell_type": "code",
   "execution_count": 61,
   "id": "eb6f81f7-03ac-4298-b74f-0ef4301c032f",
   "metadata": {},
   "outputs": [
    {
     "name": "stdout",
     "output_type": "stream",
     "text": [
      "Model: \"sequential_1\"\n",
      "_________________________________________________________________\n",
      " Layer (type)                Output Shape              Param #   \n",
      "=================================================================\n",
      " dense_6 (Dense)             (None, 128)               640       \n",
      "                                                                 \n",
      " dense_7 (Dense)             (None, 128)               16512     \n",
      "                                                                 \n",
      " dense_8 (Dense)             (None, 1)                 129       \n",
      "                                                                 \n",
      "=================================================================\n",
      "Total params: 17,281\n",
      "Trainable params: 17,281\n",
      "Non-trainable params: 0\n",
      "_________________________________________________________________\n"
     ]
    }
   ],
   "source": [
    "model.summary()"
   ]
  },
  {
   "cell_type": "code",
   "execution_count": 69,
   "id": "467711f2-8eb0-480b-99a9-36e8bd595844",
   "metadata": {},
   "outputs": [
    {
     "name": "stdout",
     "output_type": "stream",
     "text": [
      "Epoch 1/10\n",
      "22/22 [==============================] - 1s 40ms/step - loss: 5.2631e-06 - mean_squared_error: 5.2631e-06 - val_loss: 5.2631e-06 - val_mean_squared_error: 5.2631e-06\n",
      "Epoch 2/10\n",
      "22/22 [==============================] - 1s 35ms/step - loss: 5.2631e-06 - mean_squared_error: 5.2631e-06 - val_loss: 5.2631e-06 - val_mean_squared_error: 5.2631e-06\n",
      "Epoch 3/10\n",
      "22/22 [==============================] - 1s 35ms/step - loss: 5.2631e-06 - mean_squared_error: 5.2631e-06 - val_loss: 5.2631e-06 - val_mean_squared_error: 5.2631e-06\n",
      "Epoch 4/10\n",
      "22/22 [==============================] - 1s 35ms/step - loss: 5.2631e-06 - mean_squared_error: 5.2631e-06 - val_loss: 5.2631e-06 - val_mean_squared_error: 5.2631e-06\n",
      "Epoch 5/10\n",
      "22/22 [==============================] - 1s 33ms/step - loss: 5.2631e-06 - mean_squared_error: 5.2631e-06 - val_loss: 5.2631e-06 - val_mean_squared_error: 5.2631e-06\n",
      "Epoch 6/10\n",
      "22/22 [==============================] - 1s 33ms/step - loss: 5.2631e-06 - mean_squared_error: 5.2631e-06 - val_loss: 5.2631e-06 - val_mean_squared_error: 5.2631e-06\n",
      "Epoch 7/10\n",
      "22/22 [==============================] - 1s 33ms/step - loss: 5.2631e-06 - mean_squared_error: 5.2631e-06 - val_loss: 5.2631e-06 - val_mean_squared_error: 5.2631e-06\n",
      "Epoch 8/10\n",
      "22/22 [==============================] - 1s 33ms/step - loss: 5.2631e-06 - mean_squared_error: 5.2631e-06 - val_loss: 5.2631e-06 - val_mean_squared_error: 5.2631e-06\n",
      "Epoch 9/10\n",
      "22/22 [==============================] - 1s 34ms/step - loss: 5.2631e-06 - mean_squared_error: 5.2631e-06 - val_loss: 5.2631e-06 - val_mean_squared_error: 5.2631e-06\n",
      "Epoch 10/10\n",
      "22/22 [==============================] - 1s 33ms/step - loss: 5.2631e-06 - mean_squared_error: 5.2631e-06 - val_loss: 5.2631e-06 - val_mean_squared_error: 5.2631e-06\n"
     ]
    },
    {
     "data": {
      "image/png": "[encoded data removed]",
      "text/plain": [
       "<Figure size 800x500 with 1 Axes>"
      ]
     },
     "metadata": {},
     "output_type": "display_data"
    },
    {
     "name": "stdout",
     "output_type": "stream",
     "text": [
      "4/4 [==============================] - 0s 10ms/step - loss: 5.2631e-06 - mean_squared_error: 5.2631e-06\n"
     ]
    },
    {
     "data": {
      "text/plain": [
       "[5.2631303333328106e-06, 5.2631303333328106e-06]"
      ]
     },
     "execution_count": 69,
     "metadata": {},
     "output_type": "execute_result"
    }
   ],
   "source": [
    "#fit model\n",
    "history=model.fit(xtrain,ytrain,batch_size=16,epochs=10,verbose=1,validation_split=0.2)\n",
    "pd.DataFrame(history.history)[\"mean_squared_error\"].plot(figsize=(8,5))\n",
    "plt.title('Accuaracy improve with epoch')\n",
    "plt.show()\n",
    "model.evaluate(xtest,ytest)                              \n"
   ]
  },
  {
   "cell_type": "code",
   "execution_count": 70,
   "id": "5c49543b-877e-4e97-8cb2-ee874a30912c",
   "metadata": {},
   "outputs": [
    {
     "name": "stdout",
     "output_type": "stream",
     "text": [
      "1/1 [==============================] - 0s 204ms/step\n",
      "Raw Predict output(probablities): [[0.]]\n"
     ]
    }
   ],
   "source": [
    "#predictions\n",
    "prediction_input=[[5850,3,1,2]]\n",
    "\n",
    "#scale the prediction_input\n",
    "scale_input=sc.fit_transform(prediction_input)\n",
    "\n",
    "#prediction the output\n",
    "raw_predictions=model.predict(scale_input)\n",
    "\n",
    "print(\"Raw Predict output(probablities):\",raw_predictions)\n"
   ]
  },
  {
   "cell_type": "code",
   "execution_count": null,
   "id": "0f76eb79-e283-4072-9d84-fb5ac704d054",
   "metadata": {},
   "outputs": [],
   "source": []
  }
 ],
 "metadata": {
  "kernelspec": {
   "display_name": "Python 3 (ipykernel)",
   "language": "python",
   "name": "python3"
  },
  "language_info": {
   "codemirror_mode": {
    "name": "ipython",
    "version": 3
   },
   "file_extension": ".py",
   "mimetype": "text/x-python",
   "name": "python",
   "nbconvert_exporter": "python",
   "pygments_lexer": "ipython3",
   "version": "3.9.13"
  }
 },
 "nbformat": 4,
 "nbformat_minor": 5
}
