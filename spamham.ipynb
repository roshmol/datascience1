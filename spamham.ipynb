{
 "cells": [
  {
   "cell_type": "code",
   "execution_count": 1,
   "id": "deb5920a-4e88-4c3a-8390-18366cbfd467",
   "metadata": {},
   "outputs": [],
   "source": [
    "import tensorflow as tf\n",
    "import pandas as pd\n",
    "import numpy as np\n",
    "import matplotlib.pyplot as plt"
   ]
  },
  {
   "cell_type": "code",
   "execution_count": 2,
   "id": "9723f835-554c-4b77-8732-0038e3e012bf",
   "metadata": {},
   "outputs": [],
   "source": [
    "data=pd.read_csv(\"spam_ham_dataset.csv\")"
   ]
  },
  {
   "cell_type": "code",
   "execution_count": 3,
   "id": "11a238b2-985b-4810-92d7-50074cf2fb3f",
   "metadata": {},
   "outputs": [
    {
     "data": {
      "text/html": [
       "<div>\n",
       "<style scoped>\n",
       "    .dataframe tbody tr th:only-of-type {\n",
       "        vertical-align: middle;\n",
       "    }\n",
       "\n",
       "    .dataframe tbody tr th {\n",
       "        vertical-align: top;\n",
       "    }\n",
       "\n",
       "    .dataframe thead th {\n",
       "        text-align: right;\n",
       "    }\n",
       "</style>\n",
       "<table border=\"1\" class=\"dataframe\">\n",
       "  <thead>\n",
       "    <tr style=\"text-align: right;\">\n",
       "      <th></th>\n",
       "      <th>Unnamed: 0</th>\n",
       "      <th>label</th>\n",
       "      <th>text</th>\n",
       "      <th>label_num</th>\n",
       "    </tr>\n",
       "  </thead>\n",
       "  <tbody>\n",
       "    <tr>\n",
       "      <th>0</th>\n",
       "      <td>605</td>\n",
       "      <td>ham</td>\n",
       "      <td>Subject: enron methanol ; meter # : 988291\\r\\n...</td>\n",
       "      <td>0</td>\n",
       "    </tr>\n",
       "    <tr>\n",
       "      <th>1</th>\n",
       "      <td>2349</td>\n",
       "      <td>ham</td>\n",
       "      <td>Subject: hpl nom for january 9 , 2001\\r\\n( see...</td>\n",
       "      <td>0</td>\n",
       "    </tr>\n",
       "    <tr>\n",
       "      <th>2</th>\n",
       "      <td>3624</td>\n",
       "      <td>ham</td>\n",
       "      <td>Subject: neon retreat\\r\\nho ho ho , we ' re ar...</td>\n",
       "      <td>0</td>\n",
       "    </tr>\n",
       "    <tr>\n",
       "      <th>3</th>\n",
       "      <td>4685</td>\n",
       "      <td>spam</td>\n",
       "      <td>Subject: photoshop , windows , office . cheap ...</td>\n",
       "      <td>1</td>\n",
       "    </tr>\n",
       "    <tr>\n",
       "      <th>4</th>\n",
       "      <td>2030</td>\n",
       "      <td>ham</td>\n",
       "      <td>Subject: re : indian springs\\r\\nthis deal is t...</td>\n",
       "      <td>0</td>\n",
       "    </tr>\n",
       "    <tr>\n",
       "      <th>...</th>\n",
       "      <td>...</td>\n",
       "      <td>...</td>\n",
       "      <td>...</td>\n",
       "      <td>...</td>\n",
       "    </tr>\n",
       "    <tr>\n",
       "      <th>5166</th>\n",
       "      <td>1518</td>\n",
       "      <td>ham</td>\n",
       "      <td>Subject: put the 10 on the ft\\r\\nthe transport...</td>\n",
       "      <td>0</td>\n",
       "    </tr>\n",
       "    <tr>\n",
       "      <th>5167</th>\n",
       "      <td>404</td>\n",
       "      <td>ham</td>\n",
       "      <td>Subject: 3 / 4 / 2000 and following noms\\r\\nhp...</td>\n",
       "      <td>0</td>\n",
       "    </tr>\n",
       "    <tr>\n",
       "      <th>5168</th>\n",
       "      <td>2933</td>\n",
       "      <td>ham</td>\n",
       "      <td>Subject: calpine daily gas nomination\\r\\n&gt;\\r\\n...</td>\n",
       "      <td>0</td>\n",
       "    </tr>\n",
       "    <tr>\n",
       "      <th>5169</th>\n",
       "      <td>1409</td>\n",
       "      <td>ham</td>\n",
       "      <td>Subject: industrial worksheets for august 2000...</td>\n",
       "      <td>0</td>\n",
       "    </tr>\n",
       "    <tr>\n",
       "      <th>5170</th>\n",
       "      <td>4807</td>\n",
       "      <td>spam</td>\n",
       "      <td>Subject: important online banking alert\\r\\ndea...</td>\n",
       "      <td>1</td>\n",
       "    </tr>\n",
       "  </tbody>\n",
       "</table>\n",
       "<p>5171 rows × 4 columns</p>\n",
       "</div>"
      ],
      "text/plain": [
       "      Unnamed: 0 label                                               text  \\\n",
       "0            605   ham  Subject: enron methanol ; meter # : 988291\\r\\n...   \n",
       "1           2349   ham  Subject: hpl nom for january 9 , 2001\\r\\n( see...   \n",
       "2           3624   ham  Subject: neon retreat\\r\\nho ho ho , we ' re ar...   \n",
       "3           4685  spam  Subject: photoshop , windows , office . cheap ...   \n",
       "4           2030   ham  Subject: re : indian springs\\r\\nthis deal is t...   \n",
       "...          ...   ...                                                ...   \n",
       "5166        1518   ham  Subject: put the 10 on the ft\\r\\nthe transport...   \n",
       "5167         404   ham  Subject: 3 / 4 / 2000 and following noms\\r\\nhp...   \n",
       "5168        2933   ham  Subject: calpine daily gas nomination\\r\\n>\\r\\n...   \n",
       "5169        1409   ham  Subject: industrial worksheets for august 2000...   \n",
       "5170        4807  spam  Subject: important online banking alert\\r\\ndea...   \n",
       "\n",
       "      label_num  \n",
       "0             0  \n",
       "1             0  \n",
       "2             0  \n",
       "3             1  \n",
       "4             0  \n",
       "...         ...  \n",
       "5166          0  \n",
       "5167          0  \n",
       "5168          0  \n",
       "5169          0  \n",
       "5170          1  \n",
       "\n",
       "[5171 rows x 4 columns]"
      ]
     },
     "execution_count": 3,
     "metadata": {},
     "output_type": "execute_result"
    }
   ],
   "source": [
    "data"
   ]
  },
  {
   "cell_type": "code",
   "execution_count": 4,
   "id": "55b0338a-bbb9-472e-8dcd-52351f737b6e",
   "metadata": {},
   "outputs": [],
   "source": [
    "from sklearn.preprocessing import LabelEncoder\n",
    "label=LabelEncoder()"
   ]
  },
  {
   "cell_type": "code",
   "execution_count": 5,
   "id": "11da9a60-2a5c-4f25-9e6b-7ec97d7be966",
   "metadata": {},
   "outputs": [],
   "source": [
    "data['label']=label.fit_transform(data['label'])"
   ]
  },
  {
   "cell_type": "code",
   "execution_count": 6,
   "id": "fcd6312a-9f5b-4390-a607-22b9cb5161e7",
   "metadata": {},
   "outputs": [
    {
     "data": {
      "text/html": [
       "<div>\n",
       "<style scoped>\n",
       "    .dataframe tbody tr th:only-of-type {\n",
       "        vertical-align: middle;\n",
       "    }\n",
       "\n",
       "    .dataframe tbody tr th {\n",
       "        vertical-align: top;\n",
       "    }\n",
       "\n",
       "    .dataframe thead th {\n",
       "        text-align: right;\n",
       "    }\n",
       "</style>\n",
       "<table border=\"1\" class=\"dataframe\">\n",
       "  <thead>\n",
       "    <tr style=\"text-align: right;\">\n",
       "      <th></th>\n",
       "      <th>Unnamed: 0</th>\n",
       "      <th>label</th>\n",
       "      <th>text</th>\n",
       "      <th>label_num</th>\n",
       "    </tr>\n",
       "  </thead>\n",
       "  <tbody>\n",
       "    <tr>\n",
       "      <th>0</th>\n",
       "      <td>605</td>\n",
       "      <td>0</td>\n",
       "      <td>Subject: enron methanol ; meter # : 988291\\r\\n...</td>\n",
       "      <td>0</td>\n",
       "    </tr>\n",
       "    <tr>\n",
       "      <th>1</th>\n",
       "      <td>2349</td>\n",
       "      <td>0</td>\n",
       "      <td>Subject: hpl nom for january 9 , 2001\\r\\n( see...</td>\n",
       "      <td>0</td>\n",
       "    </tr>\n",
       "    <tr>\n",
       "      <th>2</th>\n",
       "      <td>3624</td>\n",
       "      <td>0</td>\n",
       "      <td>Subject: neon retreat\\r\\nho ho ho , we ' re ar...</td>\n",
       "      <td>0</td>\n",
       "    </tr>\n",
       "    <tr>\n",
       "      <th>3</th>\n",
       "      <td>4685</td>\n",
       "      <td>1</td>\n",
       "      <td>Subject: photoshop , windows , office . cheap ...</td>\n",
       "      <td>1</td>\n",
       "    </tr>\n",
       "    <tr>\n",
       "      <th>4</th>\n",
       "      <td>2030</td>\n",
       "      <td>0</td>\n",
       "      <td>Subject: re : indian springs\\r\\nthis deal is t...</td>\n",
       "      <td>0</td>\n",
       "    </tr>\n",
       "    <tr>\n",
       "      <th>...</th>\n",
       "      <td>...</td>\n",
       "      <td>...</td>\n",
       "      <td>...</td>\n",
       "      <td>...</td>\n",
       "    </tr>\n",
       "    <tr>\n",
       "      <th>5166</th>\n",
       "      <td>1518</td>\n",
       "      <td>0</td>\n",
       "      <td>Subject: put the 10 on the ft\\r\\nthe transport...</td>\n",
       "      <td>0</td>\n",
       "    </tr>\n",
       "    <tr>\n",
       "      <th>5167</th>\n",
       "      <td>404</td>\n",
       "      <td>0</td>\n",
       "      <td>Subject: 3 / 4 / 2000 and following noms\\r\\nhp...</td>\n",
       "      <td>0</td>\n",
       "    </tr>\n",
       "    <tr>\n",
       "      <th>5168</th>\n",
       "      <td>2933</td>\n",
       "      <td>0</td>\n",
       "      <td>Subject: calpine daily gas nomination\\r\\n&gt;\\r\\n...</td>\n",
       "      <td>0</td>\n",
       "    </tr>\n",
       "    <tr>\n",
       "      <th>5169</th>\n",
       "      <td>1409</td>\n",
       "      <td>0</td>\n",
       "      <td>Subject: industrial worksheets for august 2000...</td>\n",
       "      <td>0</td>\n",
       "    </tr>\n",
       "    <tr>\n",
       "      <th>5170</th>\n",
       "      <td>4807</td>\n",
       "      <td>1</td>\n",
       "      <td>Subject: important online banking alert\\r\\ndea...</td>\n",
       "      <td>1</td>\n",
       "    </tr>\n",
       "  </tbody>\n",
       "</table>\n",
       "<p>5171 rows × 4 columns</p>\n",
       "</div>"
      ],
      "text/plain": [
       "      Unnamed: 0  label                                               text  \\\n",
       "0            605      0  Subject: enron methanol ; meter # : 988291\\r\\n...   \n",
       "1           2349      0  Subject: hpl nom for january 9 , 2001\\r\\n( see...   \n",
       "2           3624      0  Subject: neon retreat\\r\\nho ho ho , we ' re ar...   \n",
       "3           4685      1  Subject: photoshop , windows , office . cheap ...   \n",
       "4           2030      0  Subject: re : indian springs\\r\\nthis deal is t...   \n",
       "...          ...    ...                                                ...   \n",
       "5166        1518      0  Subject: put the 10 on the ft\\r\\nthe transport...   \n",
       "5167         404      0  Subject: 3 / 4 / 2000 and following noms\\r\\nhp...   \n",
       "5168        2933      0  Subject: calpine daily gas nomination\\r\\n>\\r\\n...   \n",
       "5169        1409      0  Subject: industrial worksheets for august 2000...   \n",
       "5170        4807      1  Subject: important online banking alert\\r\\ndea...   \n",
       "\n",
       "      label_num  \n",
       "0             0  \n",
       "1             0  \n",
       "2             0  \n",
       "3             1  \n",
       "4             0  \n",
       "...         ...  \n",
       "5166          0  \n",
       "5167          0  \n",
       "5168          0  \n",
       "5169          0  \n",
       "5170          1  \n",
       "\n",
       "[5171 rows x 4 columns]"
      ]
     },
     "execution_count": 6,
     "metadata": {},
     "output_type": "execute_result"
    }
   ],
   "source": [
    "data"
   ]
  },
  {
   "cell_type": "code",
   "execution_count": 7,
   "id": "dffd4bd4-0cfd-4e38-817f-f4faea70f86a",
   "metadata": {},
   "outputs": [],
   "source": [
    "data['text']=label.fit_transform(data['text'])"
   ]
  },
  {
   "cell_type": "code",
   "execution_count": 8,
   "id": "670fa37c-1678-4889-924b-59ad60840273",
   "metadata": {},
   "outputs": [
    {
     "data": {
      "text/html": [
       "<div>\n",
       "<style scoped>\n",
       "    .dataframe tbody tr th:only-of-type {\n",
       "        vertical-align: middle;\n",
       "    }\n",
       "\n",
       "    .dataframe tbody tr th {\n",
       "        vertical-align: top;\n",
       "    }\n",
       "\n",
       "    .dataframe thead th {\n",
       "        text-align: right;\n",
       "    }\n",
       "</style>\n",
       "<table border=\"1\" class=\"dataframe\">\n",
       "  <thead>\n",
       "    <tr style=\"text-align: right;\">\n",
       "      <th></th>\n",
       "      <th>Unnamed: 0</th>\n",
       "      <th>label</th>\n",
       "      <th>text</th>\n",
       "      <th>label_num</th>\n",
       "    </tr>\n",
       "  </thead>\n",
       "  <tbody>\n",
       "    <tr>\n",
       "      <th>0</th>\n",
       "      <td>605</td>\n",
       "      <td>0</td>\n",
       "      <td>1209</td>\n",
       "      <td>0</td>\n",
       "    </tr>\n",
       "    <tr>\n",
       "      <th>1</th>\n",
       "      <td>2349</td>\n",
       "      <td>0</td>\n",
       "      <td>1985</td>\n",
       "      <td>0</td>\n",
       "    </tr>\n",
       "    <tr>\n",
       "      <th>2</th>\n",
       "      <td>3624</td>\n",
       "      <td>0</td>\n",
       "      <td>2774</td>\n",
       "      <td>0</td>\n",
       "    </tr>\n",
       "    <tr>\n",
       "      <th>3</th>\n",
       "      <td>4685</td>\n",
       "      <td>1</td>\n",
       "      <td>3158</td>\n",
       "      <td>1</td>\n",
       "    </tr>\n",
       "    <tr>\n",
       "      <th>4</th>\n",
       "      <td>2030</td>\n",
       "      <td>0</td>\n",
       "      <td>3613</td>\n",
       "      <td>0</td>\n",
       "    </tr>\n",
       "    <tr>\n",
       "      <th>...</th>\n",
       "      <td>...</td>\n",
       "      <td>...</td>\n",
       "      <td>...</td>\n",
       "      <td>...</td>\n",
       "    </tr>\n",
       "    <tr>\n",
       "      <th>5166</th>\n",
       "      <td>1518</td>\n",
       "      <td>0</td>\n",
       "      <td>3254</td>\n",
       "      <td>0</td>\n",
       "    </tr>\n",
       "    <tr>\n",
       "      <th>5167</th>\n",
       "      <td>404</td>\n",
       "      <td>0</td>\n",
       "      <td>125</td>\n",
       "      <td>0</td>\n",
       "    </tr>\n",
       "    <tr>\n",
       "      <th>5168</th>\n",
       "      <td>2933</td>\n",
       "      <td>0</td>\n",
       "      <td>495</td>\n",
       "      <td>0</td>\n",
       "    </tr>\n",
       "    <tr>\n",
       "      <th>5169</th>\n",
       "      <td>1409</td>\n",
       "      <td>0</td>\n",
       "      <td>2223</td>\n",
       "      <td>0</td>\n",
       "    </tr>\n",
       "    <tr>\n",
       "      <th>5170</th>\n",
       "      <td>4807</td>\n",
       "      <td>1</td>\n",
       "      <td>2195</td>\n",
       "      <td>1</td>\n",
       "    </tr>\n",
       "  </tbody>\n",
       "</table>\n",
       "<p>5171 rows × 4 columns</p>\n",
       "</div>"
      ],
      "text/plain": [
       "      Unnamed: 0  label  text  label_num\n",
       "0            605      0  1209          0\n",
       "1           2349      0  1985          0\n",
       "2           3624      0  2774          0\n",
       "3           4685      1  3158          1\n",
       "4           2030      0  3613          0\n",
       "...          ...    ...   ...        ...\n",
       "5166        1518      0  3254          0\n",
       "5167         404      0   125          0\n",
       "5168        2933      0   495          0\n",
       "5169        1409      0  2223          0\n",
       "5170        4807      1  2195          1\n",
       "\n",
       "[5171 rows x 4 columns]"
      ]
     },
     "execution_count": 8,
     "metadata": {},
     "output_type": "execute_result"
    }
   ],
   "source": [
    "data"
   ]
  },
  {
   "cell_type": "code",
   "execution_count": 9,
   "id": "9f98ec10-7b2a-4c1b-93cd-d41852b4610b",
   "metadata": {},
   "outputs": [],
   "source": [
    "np_df=data.to_numpy()"
   ]
  },
  {
   "cell_type": "code",
   "execution_count": 10,
   "id": "31925e73-639a-4109-ba13-c4b31e0042dc",
   "metadata": {},
   "outputs": [
    {
     "data": {
      "text/plain": [
       "array([[ 605,    0, 1209,    0],\n",
       "       [2349,    0, 1985,    0],\n",
       "       [3624,    0, 2774,    0],\n",
       "       ...,\n",
       "       [2933,    0,  495,    0],\n",
       "       [1409,    0, 2223,    0],\n",
       "       [4807,    1, 2195,    1]], dtype=int64)"
      ]
     },
     "execution_count": 10,
     "metadata": {},
     "output_type": "execute_result"
    }
   ],
   "source": [
    "np_df"
   ]
  },
  {
   "cell_type": "code",
   "execution_count": 11,
   "id": "fefa107c-537f-4fcc-afed-b68ffa5ba5b7",
   "metadata": {},
   "outputs": [
    {
     "data": {
      "text/plain": [
       "array([[ 605,    0, 1209],\n",
       "       [2349,    0, 1985],\n",
       "       [3624,    0, 2774],\n",
       "       ...,\n",
       "       [2933,    0,  495],\n",
       "       [1409,    0, 2223],\n",
       "       [4807,    1, 2195]], dtype=int64)"
      ]
     },
     "execution_count": 11,
     "metadata": {},
     "output_type": "execute_result"
    }
   ],
   "source": [
    "x_data=np_df[:,0:3]\n",
    "x_data"
   ]
  },
  {
   "cell_type": "code",
   "execution_count": 12,
   "id": "1a1f60b4-f1ef-419f-ba90-4e4b175c6f7f",
   "metadata": {},
   "outputs": [
    {
     "data": {
      "text/plain": [
       "array([0, 0, 0, ..., 0, 0, 1], dtype=int64)"
      ]
     },
     "execution_count": 12,
     "metadata": {},
     "output_type": "execute_result"
    }
   ],
   "source": [
    "y_data=np_df[:,-1]\n",
    "y_data"
   ]
  },
  {
   "cell_type": "code",
   "execution_count": 13,
   "id": "f812cc78-e80e-4f2e-99bf-faa2d1766cb7",
   "metadata": {},
   "outputs": [],
   "source": [
    "from sklearn.preprocessing import StandardScaler\n",
    "sc=StandardScaler()"
   ]
  },
  {
   "cell_type": "code",
   "execution_count": 14,
   "id": "8508986e-c1cd-499a-bf41-a062e6a05ac8",
   "metadata": {},
   "outputs": [],
   "source": [
    "x_data=sc.fit_transform(x_data)\n",
    "y_data=tf.keras.utils.to_categorical(y_data,2)"
   ]
  },
  {
   "cell_type": "code",
   "execution_count": 15,
   "id": "e11fcea9-a226-4c71-9c0b-4490bc0aebf5",
   "metadata": {},
   "outputs": [],
   "source": [
    "from sklearn.model_selection import train_test_split"
   ]
  },
  {
   "cell_type": "code",
   "execution_count": 16,
   "id": "55e473e3-887f-4f15-bae2-c0335321d4d1",
   "metadata": {},
   "outputs": [],
   "source": [
    "xtrain,xtest,ytrain,ytest=train_test_split(x_data,y_data,train_size=0.8,random_state=42)"
   ]
  },
  {
   "cell_type": "code",
   "execution_count": 17,
   "id": "18bb0da7-46d0-4ccb-a8a7-405797c3dc2c",
   "metadata": {},
   "outputs": [],
   "source": [
    "#creation model\n",
    "from tensorflow import keras"
   ]
  },
  {
   "cell_type": "code",
   "execution_count": 18,
   "id": "2bb9a283-b4d4-4f2a-9009-eaddf2ecf96a",
   "metadata": {},
   "outputs": [],
   "source": [
    "NB_CLASSES=2"
   ]
  },
  {
   "cell_type": "code",
   "execution_count": 19,
   "id": "f7b38ea6-645d-43f7-9a0c-d7e484adffd4",
   "metadata": {},
   "outputs": [],
   "source": [
    "model=tf.keras.models.Sequential()"
   ]
  },
  {
   "cell_type": "code",
   "execution_count": 20,
   "id": "7d638df2-e496-433d-8bee-0fce67735e40",
   "metadata": {},
   "outputs": [
    {
     "name": "stdout",
     "output_type": "stream",
     "text": [
      "Model: \"sequential\"\n",
      "_________________________________________________________________\n",
      " Layer (type)                Output Shape              Param #   \n",
      "=================================================================\n",
      " dense (Dense)               (None, 128)               512       \n",
      "                                                                 \n",
      " dense_1 (Dense)             (None, 128)               16512     \n",
      "                                                                 \n",
      " dense_2 (Dense)             (None, 2)                 258       \n",
      "                                                                 \n",
      "=================================================================\n",
      "Total params: 17,282\n",
      "Trainable params: 17,282\n",
      "Non-trainable params: 0\n",
      "_________________________________________________________________\n"
     ]
    }
   ],
   "source": [
    "#add first input layer\n",
    "model.add(keras.layers.Dense(128,input_shape=(3,),activation='relu'))#parameters 1.no of nodes,no of input variables,logical name of layer,activation function\n",
    "#add hidden layers\n",
    "model.add(keras.layers.Dense(128,activation='relu'))\n",
    "#add out layer\n",
    "model.add(keras.layers.Dense(NB_CLASSES,activation='softmax'))\n",
    "#compile the model with losses and metrics\n",
    "model.compile(loss='categorical_crossentropy',metrics=['accuracy'])\n",
    "model.summary()"
   ]
  },
  {
   "cell_type": "code",
   "execution_count": 21,
   "id": "895d420e-05b4-47d0-99ee-05106dbdffc9",
   "metadata": {},
   "outputs": [
    {
     "name": "stdout",
     "output_type": "stream",
     "text": [
      "Epoch 1/10\n",
      "207/207 [==============================] - 1s 4ms/step - loss: 0.0345 - accuracy: 0.9970 - val_loss: 4.9740e-05 - val_accuracy: 1.0000\n",
      "Epoch 2/10\n",
      "207/207 [==============================] - 1s 3ms/step - loss: 2.7909e-05 - accuracy: 1.0000 - val_loss: 1.5650e-05 - val_accuracy: 1.0000\n",
      "Epoch 3/10\n",
      "207/207 [==============================] - 1s 3ms/step - loss: 1.2229e-05 - accuracy: 1.0000 - val_loss: 8.9752e-06 - val_accuracy: 1.0000\n",
      "Epoch 4/10\n",
      "207/207 [==============================] - 1s 3ms/step - loss: 7.7402e-06 - accuracy: 1.0000 - val_loss: 6.2058e-06 - val_accuracy: 1.0000\n",
      "Epoch 5/10\n",
      "207/207 [==============================] - 1s 3ms/step - loss: 5.6151e-06 - accuracy: 1.0000 - val_loss: 4.7066e-06 - val_accuracy: 1.0000\n",
      "Epoch 6/10\n",
      "207/207 [==============================] - 1s 3ms/step - loss: 4.3811e-06 - accuracy: 1.0000 - val_loss: 3.7751e-06 - val_accuracy: 1.0000\n",
      "Epoch 7/10\n",
      "207/207 [==============================] - 1s 3ms/step - loss: 3.5784e-06 - accuracy: 1.0000 - val_loss: 3.1403e-06 - val_accuracy: 1.0000\n",
      "Epoch 8/10\n",
      "207/207 [==============================] - 1s 3ms/step - loss: 3.0177e-06 - accuracy: 1.0000 - val_loss: 2.6793e-06 - val_accuracy: 1.0000\n",
      "Epoch 9/10\n",
      "207/207 [==============================] - 1s 3ms/step - loss: 2.6031e-06 - accuracy: 1.0000 - val_loss: 2.3331e-06 - val_accuracy: 1.0000\n",
      "Epoch 10/10\n",
      "207/207 [==============================] - 1s 3ms/step - loss: 2.2856e-06 - accuracy: 1.0000 - val_loss: 2.0646e-06 - val_accuracy: 1.0000\n"
     ]
    },
    {
     "data": {
      "image/png": "[encoded data removed]",
      "text/plain": [
       "<Figure size 800x500 with 1 Axes>"
      ]
     },
     "metadata": {},
     "output_type": "display_data"
    },
    {
     "name": "stdout",
     "output_type": "stream",
     "text": [
      "33/33 [==============================] - 0s 3ms/step - loss: 2.1008e-06 - accuracy: 1.0000\n"
     ]
    },
    {
     "data": {
      "text/plain": [
       "[2.1008427211199887e-06, 1.0]"
      ]
     },
     "execution_count": 21,
     "metadata": {},
     "output_type": "execute_result"
    }
   ],
   "source": [
    "#trining model\n",
    "VERBOS=1 #make it to 1 so we can see the progress of the model\n",
    "#setup hyper parameter for training\n",
    "#set batch_size\n",
    "BATCH_SIZE=16\n",
    "#SET NUMBER OF EPOTCHES\n",
    "EPOCHS=10\n",
    "#set validation split\n",
    "VALIDATION_SPLIT=0.2\n",
    "#fit model\n",
    "hstry=model.fit(xtrain,ytrain,batch_size=16,epochs=10,verbose=1,validation_split=VALIDATION_SPLIT)\n",
    "pd.DataFrame(hstry.history)['accuracy'].plot(figsize=(8,5))\n",
    "plt.title('Accuracy improvents epochs')\n",
    "plt.show()\n",
    "model.evaluate(xtest,ytest)\n"
   ]
  },
  {
   "cell_type": "code",
   "execution_count": 24,
   "id": "a6703915-d397-42de-9626-7ac4fb36b93e",
   "metadata": {},
   "outputs": [
    {
     "name": "stdout",
     "output_type": "stream",
     "text": [
      "1/1 [==============================] - 0s 125ms/step\n",
      "Raw Predict output(probablities): [[0.9980286 0.0019714]]\n",
      "prediction is ['Subject: \\r\\n']\n"
     ]
    }
   ],
   "source": [
    "prediction_input=[[0,1209,0]]\n",
    "\n",
    "#scale the prediction_input\n",
    "scale_input=sc.fit_transform(prediction_input)\n",
    "\n",
    "#prediction the output\n",
    "raw_predictions=model.predict(scale_input)\n",
    "\n",
    "print(\"Raw Predict output(probablities):\",raw_predictions)\n",
    "\n",
    "\n",
    "#find the orediction\n",
    "prediction=np.argmax(raw_predictions)  #to get the index of the high probablity\n",
    "print(\"prediction is\",label.inverse_transform([prediction]))"
   ]
  },
  {
   "cell_type": "code",
   "execution_count": null,
   "id": "7de197c5-ddbd-4d89-8c07-2f1f9bbff4be",
   "metadata": {},
   "outputs": [],
   "source": []
  },
  {
   "cell_type": "code",
   "execution_count": null,
   "id": "ffb8d7e8-0963-4f36-aac8-e9aa4403a18a",
   "metadata": {},
   "outputs": [],
   "source": []
  }
 ],
 "metadata": {
  "kernelspec": {
   "display_name": "Python 3 (ipykernel)",
   "language": "python",
   "name": "python3"
  },
  "language_info": {
   "codemirror_mode": {
    "name": "ipython",
    "version": 3
   },
   "file_extension": ".py",
   "mimetype": "text/x-python",
   "name": "python",
   "nbconvert_exporter": "python",
   "pygments_lexer": "ipython3",
   "version": "3.9.13"
  }
 },
 "nbformat": 4,
 "nbformat_minor": 5
}
